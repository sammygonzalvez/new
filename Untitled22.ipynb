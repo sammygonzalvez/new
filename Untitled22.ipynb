{
  "nbformat": 4,
  "nbformat_minor": 0,
  "metadata": {
    "colab": {
      "name": "Untitled22.ipynb",
      "provenance": [],
      "include_colab_link": true
    },
    "kernelspec": {
      "name": "python3",
      "display_name": "Python 3"
    }
  },
  "cells": [
    {
      "cell_type": "markdown",
      "metadata": {
        "id": "view-in-github",
        "colab_type": "text"
      },
      "source": [
        "<a href=\"https://colab.research.google.com/github/sammygonzalvez/new/blob/master/Untitled22.ipynb\" target=\"_parent\"><img src=\"https://colab.research.google.com/assets/colab-badge.svg\" alt=\"Open In Colab\"/></a>"
      ]
    },
    {
      "cell_type": "code",
      "metadata": {
        "id": "pKUSODoaKNU-",
        "colab_type": "code",
        "colab": {
          "base_uri": "https://localhost:8080/",
          "height": 51
        },
        "outputId": "99d57321-2c3e-449e-8a48-2738c07f2e5c"
      },
      "source": [
        "!curl -s https://course.fast.ai/setup/colab | bash"
      ],
      "execution_count": 1,
      "outputs": [
        {
          "output_type": "stream",
          "text": [
            "Updating fastai...\n",
            "Done.\n"
          ],
          "name": "stdout"
        }
      ]
    },
    {
      "cell_type": "code",
      "metadata": {
        "id": "YoSfKAVPlumZ",
        "colab_type": "code",
        "colab": {}
      },
      "source": [
        "from fastai import datasets"
      ],
      "execution_count": 0,
      "outputs": []
    },
    {
      "cell_type": "code",
      "metadata": {
        "id": "Y1EHiI7kwLS7",
        "colab_type": "code",
        "colab": {}
      },
      "source": [
        "from pathlib import Path\n",
        "from IPython.core.debugger import set_trace\n",
        "import pickle, gzip, math, torch, matplotlib as mpl\n",
        "import matplotlib.pyplot as plt\n",
        "from torch import tensor"
      ],
      "execution_count": 0,
      "outputs": []
    },
    {
      "cell_type": "code",
      "metadata": {
        "id": "An7cpsmCyDFJ",
        "colab_type": "code",
        "colab": {}
      },
      "source": [
        "MNIST_URL = 'http://deeplearning.net/data/mnist/mnist.pkl'"
      ],
      "execution_count": 0,
      "outputs": []
    },
    {
      "cell_type": "code",
      "metadata": {
        "id": "ca2OB7qlyTT7",
        "colab_type": "code",
        "outputId": "3f466e7c-0e60-4067-ae43-1bc47ac50f7a",
        "colab": {
          "base_uri": "https://localhost:8080/",
          "height": 34
        }
      },
      "source": [
        "path = datasets.download_data(MNIST_URL, ext='.gz'); path"
      ],
      "execution_count": 5,
      "outputs": [
        {
          "output_type": "execute_result",
          "data": {
            "text/plain": [
              "PosixPath('/root/.fastai/data/mnist.pkl.gz')"
            ]
          },
          "metadata": {
            "tags": []
          },
          "execution_count": 5
        }
      ]
    },
    {
      "cell_type": "code",
      "metadata": {
        "id": "Md7LOvqFyf1B",
        "colab_type": "code",
        "colab": {}
      },
      "source": [
        "with gzip.open(path, 'rb') as f:\n",
        "  ((x_train,y_train), (x_valid, y_valid), _) = pickle.load(f, encoding = 'latin-1')"
      ],
      "execution_count": 0,
      "outputs": []
    },
    {
      "cell_type": "code",
      "metadata": {
        "id": "CwWzRgxzzthc",
        "colab_type": "code",
        "outputId": "d979c91c-8253-4bc0-931c-1bb2cd609a1f",
        "colab": {
          "base_uri": "https://localhost:8080/",
          "height": 221
        }
      },
      "source": [
        "x_train, y_train,x_valid,y_valid = map(tensor, (x_train, y_train, x_valid, y_valid))\n",
        "n,c  = x_train.shape\n",
        "x_train, x_train.shape, y_train, y_train.shape, y_train.min(), y_train.max()"
      ],
      "execution_count": 7,
      "outputs": [
        {
          "output_type": "execute_result",
          "data": {
            "text/plain": [
              "(tensor([[0., 0., 0.,  ..., 0., 0., 0.],\n",
              "         [0., 0., 0.,  ..., 0., 0., 0.],\n",
              "         [0., 0., 0.,  ..., 0., 0., 0.],\n",
              "         ...,\n",
              "         [0., 0., 0.,  ..., 0., 0., 0.],\n",
              "         [0., 0., 0.,  ..., 0., 0., 0.],\n",
              "         [0., 0., 0.,  ..., 0., 0., 0.]]),\n",
              " torch.Size([50000, 784]),\n",
              " tensor([5, 0, 4,  ..., 8, 4, 8]),\n",
              " torch.Size([50000]),\n",
              " tensor(0),\n",
              " tensor(9))"
            ]
          },
          "metadata": {
            "tags": []
          },
          "execution_count": 7
        }
      ]
    },
    {
      "cell_type": "code",
      "metadata": {
        "id": "HUA4bHvo0PE9",
        "colab_type": "code",
        "colab": {}
      },
      "source": [
        "assert n==y_train.shape[0] == 50000\n",
        "#test_eq(c,28*28)\n"
      ],
      "execution_count": 0,
      "outputs": []
    },
    {
      "cell_type": "code",
      "metadata": {
        "id": "qm3zh5Sf0wPd",
        "colab_type": "code",
        "colab": {}
      },
      "source": [
        "mpl.rcParams['image.cmap'] = 'gray'"
      ],
      "execution_count": 0,
      "outputs": []
    },
    {
      "cell_type": "code",
      "metadata": {
        "id": "wVWpoYWD2ftw",
        "colab_type": "code",
        "colab": {}
      },
      "source": [
        "img = x_train[0]"
      ],
      "execution_count": 0,
      "outputs": []
    },
    {
      "cell_type": "code",
      "metadata": {
        "id": "MmL0X8Zn2nAF",
        "colab_type": "code",
        "outputId": "9869550b-96b4-4ee0-8555-41c1d38fa78c",
        "colab": {
          "base_uri": "https://localhost:8080/",
          "height": 34
        }
      },
      "source": [
        "img.view(28,28).type()"
      ],
      "execution_count": 11,
      "outputs": [
        {
          "output_type": "execute_result",
          "data": {
            "text/plain": [
              "'torch.FloatTensor'"
            ]
          },
          "metadata": {
            "tags": []
          },
          "execution_count": 11
        }
      ]
    },
    {
      "cell_type": "code",
      "metadata": {
        "id": "RUYPGnoL2qtp",
        "colab_type": "code",
        "outputId": "d23b8b97-3d00-47f9-d23a-366895107391",
        "colab": {
          "base_uri": "https://localhost:8080/",
          "height": 265
        }
      },
      "source": [
        "plt.imshow(img.view((28,28)));"
      ],
      "execution_count": 12,
      "outputs": [
        {
          "output_type": "display_data",
          "data": {
            "image/png": "[encoded data removed]",
            "text/plain": [
              "<Figure size 432x288 with 1 Axes>"
            ]
          },
          "metadata": {
            "tags": []
          }
        }
      ]
    },
    {
      "cell_type": "code",
      "metadata": {
        "id": "dOnh8Lxq20uW",
        "colab_type": "code",
        "colab": {}
      },
      "source": [
        "weights = torch.randn(784,10)"
      ],
      "execution_count": 0,
      "outputs": []
    },
    {
      "cell_type": "code",
      "metadata": {
        "id": "7qvC1_jm3EKb",
        "colab_type": "code",
        "colab": {}
      },
      "source": [
        "bias = torch.zeros(10)"
      ],
      "execution_count": 0,
      "outputs": []
    },
    {
      "cell_type": "code",
      "metadata": {
        "id": "X07TUUBt3HlU",
        "colab_type": "code",
        "colab": {}
      },
      "source": [
        "def matmul(a,b):\n",
        "  ar, ac = a.shape #n_rows * n_cols\n",
        "  br, bc = b.shape\n",
        "  assert ac==br\n",
        "  c = torch.zeros(ar,bc)\n",
        "  for i in range(ar):\n",
        "    for j in range(bc):\n",
        "      for k in range(ac):\n",
        "        c[i,j] += a[i,k]*b[k,j]\n",
        "  return c\n"
      ],
      "execution_count": 0,
      "outputs": []
    },
    {
      "cell_type": "code",
      "metadata": {
        "id": "1vH3eomi4-wh",
        "colab_type": "code",
        "colab": {}
      },
      "source": [
        "m1 = x_valid[:5]\n",
        "m2 = weights"
      ],
      "execution_count": 0,
      "outputs": []
    },
    {
      "cell_type": "code",
      "metadata": {
        "id": "O6pOzuBI5EIm",
        "colab_type": "code",
        "outputId": "bcb32485-d8de-48c8-a631-e27dc7d98ab9",
        "colab": {
          "base_uri": "https://localhost:8080/",
          "height": 34
        }
      },
      "source": [
        "m1.shape, m2.shape"
      ],
      "execution_count": 17,
      "outputs": [
        {
          "output_type": "execute_result",
          "data": {
            "text/plain": [
              "(torch.Size([5, 784]), torch.Size([784, 10]))"
            ]
          },
          "metadata": {
            "tags": []
          },
          "execution_count": 17
        }
      ]
    },
    {
      "cell_type": "code",
      "metadata": {
        "id": "wDFx01Fj5G3M",
        "colab_type": "code",
        "outputId": "d46ef855-8b1a-4898-d46b-1a699c87220d",
        "colab": {
          "base_uri": "https://localhost:8080/",
          "height": 51
        }
      },
      "source": [
        "%time t1 = matmul(m1,m2)"
      ],
      "execution_count": 18,
      "outputs": [
        {
          "output_type": "stream",
          "text": [
            "CPU times: user 903 ms, sys: 485 µs, total: 903 ms\n",
            "Wall time: 910 ms\n"
          ],
          "name": "stdout"
        }
      ]
    },
    {
      "cell_type": "code",
      "metadata": {
        "id": "KAhswfTi5QSm",
        "colab_type": "code",
        "outputId": "182953eb-9195-465b-e230-0c0fc7f174f6",
        "colab": {
          "base_uri": "https://localhost:8080/",
          "height": 34
        }
      },
      "source": [
        "t1.shape"
      ],
      "execution_count": 19,
      "outputs": [
        {
          "output_type": "execute_result",
          "data": {
            "text/plain": [
              "torch.Size([5, 10])"
            ]
          },
          "metadata": {
            "tags": []
          },
          "execution_count": 19
        }
      ]
    },
    {
      "cell_type": "code",
      "metadata": {
        "id": "Q1JCikb45UGG",
        "colab_type": "code",
        "outputId": "4efe6bf5-0bc7-4e5c-e572-4b5ba3f9dd6f",
        "colab": {
          "base_uri": "https://localhost:8080/",
          "height": 34
        }
      },
      "source": [
        "len(x_train)"
      ],
      "execution_count": 20,
      "outputs": [
        {
          "output_type": "execute_result",
          "data": {
            "text/plain": [
              "50000"
            ]
          },
          "metadata": {
            "tags": []
          },
          "execution_count": 20
        }
      ]
    },
    {
      "cell_type": "markdown",
      "metadata": {
        "id": "f2VpH_giM7nY",
        "colab_type": "text"
      },
      "source": [
        "Element Wise Ops\n"
      ]
    },
    {
      "cell_type": "code",
      "metadata": {
        "id": "FcUzbIvAMrLu",
        "colab_type": "code",
        "outputId": "73a4718e-6513-4d6a-b8f1-a6613632fa22",
        "colab": {
          "base_uri": "https://localhost:8080/",
          "height": 34
        }
      },
      "source": [
        "a = tensor([10.,6,-4])\n",
        "b = tensor([2., 8, 7])\n",
        "a,b"
      ],
      "execution_count": 21,
      "outputs": [
        {
          "output_type": "execute_result",
          "data": {
            "text/plain": [
              "(tensor([10.,  6., -4.]), tensor([2., 8., 7.]))"
            ]
          },
          "metadata": {
            "tags": []
          },
          "execution_count": 21
        }
      ]
    },
    {
      "cell_type": "code",
      "metadata": {
        "id": "4CDlUI2vNOAG",
        "colab_type": "code",
        "outputId": "82de450d-ad36-4922-807a-0ab9ad3ef89b",
        "colab": {
          "base_uri": "https://localhost:8080/",
          "height": 34
        }
      },
      "source": [
        "a+b"
      ],
      "execution_count": 22,
      "outputs": [
        {
          "output_type": "execute_result",
          "data": {
            "text/plain": [
              "tensor([12., 14.,  3.])"
            ]
          },
          "metadata": {
            "tags": []
          },
          "execution_count": 22
        }
      ]
    },
    {
      "cell_type": "code",
      "metadata": {
        "id": "xE8zpakPNPiD",
        "colab_type": "code",
        "outputId": "3b9cf1c4-9479-4e87-88c4-a7e00d07b44b",
        "colab": {
          "base_uri": "https://localhost:8080/",
          "height": 34
        }
      },
      "source": [
        "(a < b ).float().mean()"
      ],
      "execution_count": 23,
      "outputs": [
        {
          "output_type": "execute_result",
          "data": {
            "text/plain": [
              "tensor(0.6667)"
            ]
          },
          "metadata": {
            "tags": []
          },
          "execution_count": 23
        }
      ]
    },
    {
      "cell_type": "code",
      "metadata": {
        "id": "E9RH-TosNUib",
        "colab_type": "code",
        "outputId": "d567474a-73d6-449d-ce7b-5fdb2fc9da05",
        "colab": {
          "base_uri": "https://localhost:8080/",
          "height": 68
        }
      },
      "source": [
        "m = tensor([[1.,2,3], [4,5,6], [7,8,9]]); m"
      ],
      "execution_count": 24,
      "outputs": [
        {
          "output_type": "execute_result",
          "data": {
            "text/plain": [
              "tensor([[1., 2., 3.],\n",
              "        [4., 5., 6.],\n",
              "        [7., 8., 9.]])"
            ]
          },
          "metadata": {
            "tags": []
          },
          "execution_count": 24
        }
      ]
    },
    {
      "cell_type": "code",
      "metadata": {
        "id": "W1uqt9maNe10",
        "colab_type": "code",
        "outputId": "f970d2bd-e47e-48fc-a19e-1309430a5212",
        "colab": {
          "base_uri": "https://localhost:8080/",
          "height": 34
        }
      },
      "source": [
        "(m*m).sum().sqrt()"
      ],
      "execution_count": 25,
      "outputs": [
        {
          "output_type": "execute_result",
          "data": {
            "text/plain": [
              "tensor(16.8819)"
            ]
          },
          "metadata": {
            "tags": []
          },
          "execution_count": 25
        }
      ]
    },
    {
      "cell_type": "code",
      "metadata": {
        "id": "119XhCABN3rB",
        "colab_type": "code",
        "colab": {}
      },
      "source": [
        "def matmul(a,b):\n",
        "  ar,ac = a.shape\n",
        "  br,bc = b.shape\n",
        "  assert ac == br\n",
        "  c = torch.zeros(ar,bc)\n",
        "  for i in range(ar):\n",
        "    for j in range(bc):\n",
        "      c[i,j] = (a[i,:] * b[:,j]).sum()\n",
        "  return c"
      ],
      "execution_count": 0,
      "outputs": []
    },
    {
      "cell_type": "code",
      "metadata": {
        "id": "hFlQNJIuOuys",
        "colab_type": "code",
        "outputId": "db1ec59d-6243-476a-e6eb-cd3f795a8fad",
        "colab": {
          "base_uri": "https://localhost:8080/",
          "height": 34
        }
      },
      "source": [
        "%timeit -n 10 _=matmul(m1,m2)"
      ],
      "execution_count": 27,
      "outputs": [
        {
          "output_type": "stream",
          "text": [
            "10 loops, best of 3: 1.22 ms per loop\n"
          ],
          "name": "stdout"
        }
      ]
    },
    {
      "cell_type": "code",
      "metadata": {
        "id": "twqvkLDrO5Qf",
        "colab_type": "code",
        "outputId": "78b1c7ca-2c05-4bb8-a72a-1accef0d30de",
        "colab": {
          "base_uri": "https://localhost:8080/",
          "height": 34
        }
      },
      "source": [
        "890.1/5\n"
      ],
      "execution_count": 28,
      "outputs": [
        {
          "output_type": "execute_result",
          "data": {
            "text/plain": [
              "178.02"
            ]
          },
          "metadata": {
            "tags": []
          },
          "execution_count": 28
        }
      ]
    },
    {
      "cell_type": "code",
      "metadata": {
        "id": "KhOzpB2RNQeg",
        "colab_type": "code",
        "colab": {}
      },
      "source": [
        "def test(a,b,cmp,cname=None):\n",
        "  if cname is None: cname = cmp.__name__\n",
        "  assert cmp(a,b), f\"{cname}:\\n{a}\\n{b}\""
      ],
      "execution_count": 0,
      "outputs": []
    },
    {
      "cell_type": "code",
      "metadata": {
        "id": "HY4W-3ZHPIeS",
        "colab_type": "code",
        "colab": {}
      },
      "source": [
        "def near(a,b) : return torch.allclose(a,b, rtol=1e-3,atol=1e-5)\n",
        "def test_near(a,b): test(a,b,near)\n",
        "                                      "
      ],
      "execution_count": 0,
      "outputs": []
    },
    {
      "cell_type": "code",
      "metadata": {
        "id": "1hJv9cfxRYp2",
        "colab_type": "code",
        "colab": {}
      },
      "source": [
        "test_near(t1,matmul(m1,m2))"
      ],
      "execution_count": 0,
      "outputs": []
    },
    {
      "cell_type": "code",
      "metadata": {
        "id": "hKxmXcgBRcaG",
        "colab_type": "code",
        "colab": {
          "base_uri": "https://localhost:8080/",
          "height": 34
        },
        "outputId": "1af9a6da-f2e2-46f2-8218-3e47c13a9572"
      },
      "source": [
        "a"
      ],
      "execution_count": 32,
      "outputs": [
        {
          "output_type": "execute_result",
          "data": {
            "text/plain": [
              "tensor([10.,  6., -4.])"
            ]
          },
          "metadata": {
            "tags": []
          },
          "execution_count": 32
        }
      ]
    },
    {
      "cell_type": "code",
      "metadata": {
        "id": "j-KG4PIuRsjq",
        "colab_type": "code",
        "colab": {
          "base_uri": "https://localhost:8080/",
          "height": 34
        },
        "outputId": "7f15f4f7-fb83-402d-9701-ae28e45b796c"
      },
      "source": [
        "a > 0"
      ],
      "execution_count": 33,
      "outputs": [
        {
          "output_type": "execute_result",
          "data": {
            "text/plain": [
              "tensor([ True,  True, False])"
            ]
          },
          "metadata": {
            "tags": []
          },
          "execution_count": 33
        }
      ]
    },
    {
      "cell_type": "code",
      "metadata": {
        "id": "4TVpL5VZRuzW",
        "colab_type": "code",
        "colab": {
          "base_uri": "https://localhost:8080/",
          "height": 34
        },
        "outputId": "3e3e3831-6867-4a0d-8ba1-79812173dc58"
      },
      "source": [
        "a + 1"
      ],
      "execution_count": 34,
      "outputs": [
        {
          "output_type": "execute_result",
          "data": {
            "text/plain": [
              "tensor([11.,  7., -3.])"
            ]
          },
          "metadata": {
            "tags": []
          },
          "execution_count": 34
        }
      ]
    },
    {
      "cell_type": "code",
      "metadata": {
        "id": "9AFwDdYeR0dh",
        "colab_type": "code",
        "colab": {
          "base_uri": "https://localhost:8080/",
          "height": 68
        },
        "outputId": "c69ce094-6a28-4365-8fdd-2b40e0392748"
      },
      "source": [
        "m"
      ],
      "execution_count": 35,
      "outputs": [
        {
          "output_type": "execute_result",
          "data": {
            "text/plain": [
              "tensor([[1., 2., 3.],\n",
              "        [4., 5., 6.],\n",
              "        [7., 8., 9.]])"
            ]
          },
          "metadata": {
            "tags": []
          },
          "execution_count": 35
        }
      ]
    },
    {
      "cell_type": "code",
      "metadata": {
        "id": "HYiRhN3bR105",
        "colab_type": "code",
        "colab": {
          "base_uri": "https://localhost:8080/",
          "height": 68
        },
        "outputId": "f4bb554e-7d94-46d4-c6df-1096fa3f8d10"
      },
      "source": [
        "2*m"
      ],
      "execution_count": 36,
      "outputs": [
        {
          "output_type": "execute_result",
          "data": {
            "text/plain": [
              "tensor([[ 2.,  4.,  6.],\n",
              "        [ 8., 10., 12.],\n",
              "        [14., 16., 18.]])"
            ]
          },
          "metadata": {
            "tags": []
          },
          "execution_count": 36
        }
      ]
    },
    {
      "cell_type": "code",
      "metadata": {
        "id": "wZlICg0SR3yo",
        "colab_type": "code",
        "colab": {
          "base_uri": "https://localhost:8080/",
          "height": 34
        },
        "outputId": "505578d1-b104-4535-c964-2d8271c2bffe"
      },
      "source": [
        "c = tensor([10.,20,30]); c"
      ],
      "execution_count": 37,
      "outputs": [
        {
          "output_type": "execute_result",
          "data": {
            "text/plain": [
              "tensor([10., 20., 30.])"
            ]
          },
          "metadata": {
            "tags": []
          },
          "execution_count": 37
        }
      ]
    },
    {
      "cell_type": "code",
      "metadata": {
        "id": "mVIYj_9ISrmN",
        "colab_type": "code",
        "colab": {
          "base_uri": "https://localhost:8080/",
          "height": 68
        },
        "outputId": "4c819046-7213-4582-af46-c989120bd1f2"
      },
      "source": [
        "m"
      ],
      "execution_count": 38,
      "outputs": [
        {
          "output_type": "execute_result",
          "data": {
            "text/plain": [
              "tensor([[1., 2., 3.],\n",
              "        [4., 5., 6.],\n",
              "        [7., 8., 9.]])"
            ]
          },
          "metadata": {
            "tags": []
          },
          "execution_count": 38
        }
      ]
    },
    {
      "cell_type": "code",
      "metadata": {
        "id": "WsvC7OToSs_L",
        "colab_type": "code",
        "colab": {
          "base_uri": "https://localhost:8080/",
          "height": 34
        },
        "outputId": "595d370e-2c70-4cc2-d6f8-481b346f0bd4"
      },
      "source": [
        "m.shape"
      ],
      "execution_count": 39,
      "outputs": [
        {
          "output_type": "execute_result",
          "data": {
            "text/plain": [
              "torch.Size([3, 3])"
            ]
          },
          "metadata": {
            "tags": []
          },
          "execution_count": 39
        }
      ]
    },
    {
      "cell_type": "code",
      "metadata": {
        "id": "iWTzReIZSvUN",
        "colab_type": "code",
        "colab": {
          "base_uri": "https://localhost:8080/",
          "height": 34
        },
        "outputId": "60778079-735a-4ccb-b1e4-2ba46aa111c0"
      },
      "source": [
        "c.shape"
      ],
      "execution_count": 40,
      "outputs": [
        {
          "output_type": "execute_result",
          "data": {
            "text/plain": [
              "torch.Size([3])"
            ]
          },
          "metadata": {
            "tags": []
          },
          "execution_count": 40
        }
      ]
    },
    {
      "cell_type": "code",
      "metadata": {
        "id": "-WOkwfdgSwiK",
        "colab_type": "code",
        "colab": {
          "base_uri": "https://localhost:8080/",
          "height": 68
        },
        "outputId": "abb1aad2-11b9-4a3f-bc5c-263b1e51a3f0"
      },
      "source": [
        "m + c"
      ],
      "execution_count": 41,
      "outputs": [
        {
          "output_type": "execute_result",
          "data": {
            "text/plain": [
              "tensor([[11., 22., 33.],\n",
              "        [14., 25., 36.],\n",
              "        [17., 28., 39.]])"
            ]
          },
          "metadata": {
            "tags": []
          },
          "execution_count": 41
        }
      ]
    },
    {
      "cell_type": "code",
      "metadata": {
        "id": "JH-3BXqpSyh3",
        "colab_type": "code",
        "colab": {}
      },
      "source": [
        "t = c.expand_as(m)"
      ],
      "execution_count": 0,
      "outputs": []
    },
    {
      "cell_type": "code",
      "metadata": {
        "id": "P7wbEWdCVN4Q",
        "colab_type": "code",
        "colab": {
          "base_uri": "https://localhost:8080/",
          "height": 68
        },
        "outputId": "da23d79a-01b0-4a0b-dabf-6e51fa6a23f0"
      },
      "source": [
        "t"
      ],
      "execution_count": 43,
      "outputs": [
        {
          "output_type": "execute_result",
          "data": {
            "text/plain": [
              "tensor([[10., 20., 30.],\n",
              "        [10., 20., 30.],\n",
              "        [10., 20., 30.]])"
            ]
          },
          "metadata": {
            "tags": []
          },
          "execution_count": 43
        }
      ]
    },
    {
      "cell_type": "code",
      "metadata": {
        "id": "AACMvLirVO7w",
        "colab_type": "code",
        "colab": {
          "base_uri": "https://localhost:8080/",
          "height": 68
        },
        "outputId": "8cddc140-c637-4af4-d56c-55eaa4b7ddcd"
      },
      "source": [
        "m+t"
      ],
      "execution_count": 44,
      "outputs": [
        {
          "output_type": "execute_result",
          "data": {
            "text/plain": [
              "tensor([[11., 22., 33.],\n",
              "        [14., 25., 36.],\n",
              "        [17., 28., 39.]])"
            ]
          },
          "metadata": {
            "tags": []
          },
          "execution_count": 44
        }
      ]
    },
    {
      "cell_type": "code",
      "metadata": {
        "id": "FWWZHHygVQgZ",
        "colab_type": "code",
        "colab": {
          "base_uri": "https://localhost:8080/",
          "height": 85
        },
        "outputId": "a0578e68-cada-41e7-f520-b45d0ad16065"
      },
      "source": [
        "t.storage()"
      ],
      "execution_count": 45,
      "outputs": [
        {
          "output_type": "execute_result",
          "data": {
            "text/plain": [
              " 10.0\n",
              " 20.0\n",
              " 30.0\n",
              "[torch.FloatStorage of size 3]"
            ]
          },
          "metadata": {
            "tags": []
          },
          "execution_count": 45
        }
      ]
    },
    {
      "cell_type": "code",
      "metadata": {
        "id": "v2m3siKmVTU2",
        "colab_type": "code",
        "colab": {
          "base_uri": "https://localhost:8080/",
          "height": 34
        },
        "outputId": "66e95099-64cf-4522-9bf3-19d9871828fa"
      },
      "source": [
        "t.stride() , t.shape"
      ],
      "execution_count": 46,
      "outputs": [
        {
          "output_type": "execute_result",
          "data": {
            "text/plain": [
              "((0, 1), torch.Size([3, 3]))"
            ]
          },
          "metadata": {
            "tags": []
          },
          "execution_count": 46
        }
      ]
    },
    {
      "cell_type": "code",
      "metadata": {
        "id": "C0qmFPlCVX9k",
        "colab_type": "code",
        "colab": {
          "base_uri": "https://localhost:8080/",
          "height": 34
        },
        "outputId": "c0731fb1-75dc-4a65-e91b-3171f509a269"
      },
      "source": [
        "c.unsqueeze(0)"
      ],
      "execution_count": 47,
      "outputs": [
        {
          "output_type": "execute_result",
          "data": {
            "text/plain": [
              "tensor([[10., 20., 30.]])"
            ]
          },
          "metadata": {
            "tags": []
          },
          "execution_count": 47
        }
      ]
    },
    {
      "cell_type": "code",
      "metadata": {
        "id": "VMw3An6aVl29",
        "colab_type": "code",
        "colab": {
          "base_uri": "https://localhost:8080/",
          "height": 68
        },
        "outputId": "ee4cd345-c9bf-40b3-b7bf-8a41c1dbfb9e"
      },
      "source": [
        "c.unsqueeze(1)"
      ],
      "execution_count": 48,
      "outputs": [
        {
          "output_type": "execute_result",
          "data": {
            "text/plain": [
              "tensor([[10.],\n",
              "        [20.],\n",
              "        [30.]])"
            ]
          },
          "metadata": {
            "tags": []
          },
          "execution_count": 48
        }
      ]
    },
    {
      "cell_type": "code",
      "metadata": {
        "id": "ixXAQe46Vq8g",
        "colab_type": "code",
        "colab": {
          "base_uri": "https://localhost:8080/",
          "height": 68
        },
        "outputId": "11a52ba3-bf18-4125-a256-76473fbbeebb"
      },
      "source": [
        "m"
      ],
      "execution_count": 49,
      "outputs": [
        {
          "output_type": "execute_result",
          "data": {
            "text/plain": [
              "tensor([[1., 2., 3.],\n",
              "        [4., 5., 6.],\n",
              "        [7., 8., 9.]])"
            ]
          },
          "metadata": {
            "tags": []
          },
          "execution_count": 49
        }
      ]
    },
    {
      "cell_type": "code",
      "metadata": {
        "id": "BCuqoDU6VwW8",
        "colab_type": "code",
        "colab": {
          "base_uri": "https://localhost:8080/",
          "height": 34
        },
        "outputId": "0177a296-04e1-437f-b850-cb3097c0f0a0"
      },
      "source": [
        "c.shape, c.unsqueeze(0).shape,c.unsqueeze(1).shape"
      ],
      "execution_count": 50,
      "outputs": [
        {
          "output_type": "execute_result",
          "data": {
            "text/plain": [
              "(torch.Size([3]), torch.Size([1, 3]), torch.Size([3, 1]))"
            ]
          },
          "metadata": {
            "tags": []
          },
          "execution_count": 50
        }
      ]
    },
    {
      "cell_type": "code",
      "metadata": {
        "id": "U52qOJijV7ce",
        "colab_type": "code",
        "colab": {
          "base_uri": "https://localhost:8080/",
          "height": 34
        },
        "outputId": "7bdcaed2-5600-4b79-e221-f5e6c7a341b8"
      },
      "source": [
        "c.shape, c[None,:].shape,c[:,None].shape"
      ],
      "execution_count": 51,
      "outputs": [
        {
          "output_type": "execute_result",
          "data": {
            "text/plain": [
              "(torch.Size([3]), torch.Size([1, 3]), torch.Size([3, 1]))"
            ]
          },
          "metadata": {
            "tags": []
          },
          "execution_count": 51
        }
      ]
    },
    {
      "cell_type": "code",
      "metadata": {
        "id": "OwF4_k_AWG2y",
        "colab_type": "code",
        "colab": {
          "base_uri": "https://localhost:8080/",
          "height": 34
        },
        "outputId": "655dda4d-dcb7-4e1c-ab3d-82d7270ffa08"
      },
      "source": [
        "c[None].shape, c[...,None].shape"
      ],
      "execution_count": 52,
      "outputs": [
        {
          "output_type": "execute_result",
          "data": {
            "text/plain": [
              "(torch.Size([1, 3]), torch.Size([3, 1]))"
            ]
          },
          "metadata": {
            "tags": []
          },
          "execution_count": 52
        }
      ]
    },
    {
      "cell_type": "code",
      "metadata": {
        "id": "MTASYT3mWQNE",
        "colab_type": "code",
        "colab": {
          "base_uri": "https://localhost:8080/",
          "height": 68
        },
        "outputId": "dd39c569-c912-4a36-bf50-c197e0faa137"
      },
      "source": [
        "c[:,None].expand_as(m)"
      ],
      "execution_count": 53,
      "outputs": [
        {
          "output_type": "execute_result",
          "data": {
            "text/plain": [
              "tensor([[10., 10., 10.],\n",
              "        [20., 20., 20.],\n",
              "        [30., 30., 30.]])"
            ]
          },
          "metadata": {
            "tags": []
          },
          "execution_count": 53
        }
      ]
    },
    {
      "cell_type": "code",
      "metadata": {
        "id": "fd1WPUTOWXtY",
        "colab_type": "code",
        "colab": {
          "base_uri": "https://localhost:8080/",
          "height": 68
        },
        "outputId": "8cbdd12f-a8ec-4d95-b962-faa05a30cbf8"
      },
      "source": [
        "m+c[:,None]"
      ],
      "execution_count": 54,
      "outputs": [
        {
          "output_type": "execute_result",
          "data": {
            "text/plain": [
              "tensor([[11., 12., 13.],\n",
              "        [24., 25., 26.],\n",
              "        [37., 38., 39.]])"
            ]
          },
          "metadata": {
            "tags": []
          },
          "execution_count": 54
        }
      ]
    },
    {
      "cell_type": "code",
      "metadata": {
        "id": "6mNU3rJ1Weg9",
        "colab_type": "code",
        "colab": {}
      },
      "source": [
        " def matmul(a,b):\n",
        "   ar,ac = a.shape\n",
        "   br,bc = b.shape\n",
        "   assert  ac==br\n",
        "   c = torch.zeros(ar,bc)\n",
        "   for i in range(ar):\n",
        "     c[i] = (a[i ].unsqueeze(-1)*b).sum(dim=0)\n",
        "   return c"
      ],
      "execution_count": 0,
      "outputs": []
    },
    {
      "cell_type": "code",
      "metadata": {
        "id": "_eUYpEGGZDbt",
        "colab_type": "code",
        "colab": {
          "base_uri": "https://localhost:8080/",
          "height": 34
        },
        "outputId": "596ab6f4-16ec-4d1b-c05f-1fa9657f648d"
      },
      "source": [
        "%timeit -n 10 _=matmul(m1,m2)"
      ],
      "execution_count": 56,
      "outputs": [
        {
          "output_type": "stream",
          "text": [
            "10 loops, best of 3: 525 µs per loop\n"
          ],
          "name": "stdout"
        }
      ]
    },
    {
      "cell_type": "code",
      "metadata": {
        "id": "08VxtGLqZLNJ",
        "colab_type": "code",
        "colab": {
          "base_uri": "https://localhost:8080/",
          "height": 34
        },
        "outputId": "b2b82aa9-cec3-4d51-8857-fdd5fec7d965"
      },
      "source": [
        "885000/277"
      ],
      "execution_count": 57,
      "outputs": [
        {
          "output_type": "execute_result",
          "data": {
            "text/plain": [
              "3194.945848375451"
            ]
          },
          "metadata": {
            "tags": []
          },
          "execution_count": 57
        }
      ]
    },
    {
      "cell_type": "code",
      "metadata": {
        "id": "GVH2OriGZYPf",
        "colab_type": "code",
        "colab": {}
      },
      "source": [
        "def matmul(a,b): return torch.einsum('ik,kj->ij',a,b)"
      ],
      "execution_count": 0,
      "outputs": []
    },
    {
      "cell_type": "code",
      "metadata": {
        "id": "SPnyXJCVd2zk",
        "colab_type": "code",
        "colab": {
          "base_uri": "https://localhost:8080/",
          "height": 51
        },
        "outputId": "c3137551-82e7-4596-f1e1-fb4514f46585"
      },
      "source": [
        "%timeit -n 10 _=matmul(m1,m2)"
      ],
      "execution_count": 59,
      "outputs": [
        {
          "output_type": "stream",
          "text": [
            "The slowest run took 63.44 times longer than the fastest. This could mean that an intermediate result is being cached.\n",
            "10 loops, best of 3: 35.6 µs per loop\n"
          ],
          "name": "stdout"
        }
      ]
    },
    {
      "cell_type": "code",
      "metadata": {
        "id": "ZPzjDXI7d7Tb",
        "colab_type": "code",
        "colab": {
          "base_uri": "https://localhost:8080/",
          "height": 51
        },
        "outputId": "4b2d727b-8e40-4e27-8e44-8fb23abe1da5"
      },
      "source": [
        "%timeit -n 10 t2 = m1.matmul(m2)"
      ],
      "execution_count": 60,
      "outputs": [
        {
          "output_type": "stream",
          "text": [
            "The slowest run took 6.45 times longer than the fastest. This could mean that an intermediate result is being cached.\n",
            "10 loops, best of 3: 10.6 µs per loop\n"
          ],
          "name": "stdout"
        }
      ]
    },
    {
      "cell_type": "code",
      "metadata": {
        "id": "cF9392g-ePdg",
        "colab_type": "code",
        "colab": {}
      },
      "source": [
        "t2 = m1@m2"
      ],
      "execution_count": 0,
      "outputs": []
    },
    {
      "cell_type": "code",
      "metadata": {
        "id": "BqYQ1eu8ekf3",
        "colab_type": "code",
        "colab": {
          "base_uri": "https://localhost:8080/",
          "height": 187
        },
        "outputId": "81f8bbd9-fbed-49bd-ab4e-6d02fd33c6f5"
      },
      "source": [
        "t2"
      ],
      "execution_count": 62,
      "outputs": [
        {
          "output_type": "execute_result",
          "data": {
            "text/plain": [
              "tensor([[ 12.0984,  15.5915,  -7.8306,  -8.3545,   2.9572,  -2.2410,   5.8590,\n",
              "           2.4153,   5.7279,  17.8150],\n",
              "        [  5.4094,   7.8211,  -9.8214,  -7.2565,   4.6793,  -2.1516,   6.3310,\n",
              "           2.3312,   1.2654,   5.6296],\n",
              "        [  0.8818,   2.1049, -17.9974,   1.0132,   4.0513,   3.8928,  -2.0151,\n",
              "          -7.5963,  -0.5693,   9.4217],\n",
              "        [  5.5851,   4.5637,  -8.3702,   2.2235,  13.5590,  10.0812,   6.4817,\n",
              "          -3.9214,   2.1078,  12.1497],\n",
              "        [ -0.1001,  -0.9467,  -7.0871,  -0.8219,   4.9958,  -0.9347,   8.0582,\n",
              "          11.0278,   4.9680,   0.7378]])"
            ]
          },
          "metadata": {
            "tags": []
          },
          "execution_count": 62
        }
      ]
    },
    {
      "cell_type": "code",
      "metadata": {
        "id": "EZlvFQGFemyI",
        "colab_type": "code",
        "outputId": "6ef13c7c-e822-4012-90d6-1a79168c59af",
        "colab": {
          "base_uri": "https://localhost:8080/",
          "height": 255
        }
      },
      "source": [
        "!python /content/new/notebook2script.py Untitled22.ipynb\n"
      ],
      "execution_count": 69,
      "outputs": [
        {
          "output_type": "stream",
          "text": [
            "Traceback (most recent call last):\n",
            "  File \"/content/new/notebook2script.py\", line 74, in <module>\n",
            "    if __name__ == '__main__': fire.Fire(notebook2script)\n",
            "  File \"/usr/local/lib/python3.6/dist-packages/fire/core.py\", line 138, in Fire\n",
            "    component_trace = _Fire(component, args, parsed_flag_args, context, name)\n",
            "  File \"/usr/local/lib/python3.6/dist-packages/fire/core.py\", line 471, in _Fire\n",
            "    target=component.__name__)\n",
            "  File \"/usr/local/lib/python3.6/dist-packages/fire/core.py\", line 675, in _CallAndUpdateTrace\n",
            "    component = fn(*varargs, **kwargs)\n",
            "  File \"/content/new/notebook2script.py\", line 46, in notebook2script\n",
            "    if not allFiles: notebook2scriptSingle(fname)\n",
            "  File \"/content/new/notebook2script.py\", line 57, in notebook2scriptSingle\n",
            "    main_dic = json.load(open(fname,'r',encoding=\"utf-8\"))\n",
            "FileNotFoundError: [Errno 2] No such file or directory: 'Untitled22.ipynb'\n"
          ],
          "name": "stdout"
        }
      ]
    },
    {
      "cell_type": "code",
      "metadata": {
        "id": "TE6STEGfPeDp",
        "colab_type": "code",
        "colab": {
          "base_uri": "https://localhost:8080/",
          "height": 136
        },
        "outputId": "e7f312b0-9bcc-446c-f7f5-fe2f60b5d0aa"
      },
      "source": [
        "!git clone https://www.github.com/sammygonzalvez/new"
      ],
      "execution_count": 64,
      "outputs": [
        {
          "output_type": "stream",
          "text": [
            "Cloning into 'new'...\n",
            "warning: redirecting to https://github.com/sammygonzalvez/new.git/\n",
            "remote: Enumerating objects: 3, done.\u001b[K\n",
            "remote: Counting objects:  33% (1/3)\u001b[K\rremote: Counting objects:  66% (2/3)\u001b[K\rremote: Counting objects: 100% (3/3)\u001b[K\rremote: Counting objects: 100% (3/3), done.\u001b[K\n",
            "remote: Compressing objects:  50% (1/2)\u001b[K\rremote: Compressing objects: 100% (2/2)\u001b[K\rremote: Compressing objects: 100% (2/2), done.\u001b[K\n",
            "remote: Total 3 (delta 0), reused 0 (delta 0), pack-reused 0\u001b[K\n",
            "Unpacking objects:  33% (1/3)   \rUnpacking objects:  66% (2/3)   \rUnpacking objects: 100% (3/3)   \rUnpacking objects: 100% (3/3), done.\n"
          ],
          "name": "stdout"
        }
      ]
    },
    {
      "cell_type": "code",
      "metadata": {
        "id": "Mb77MPvsMAW0",
        "colab_type": "code",
        "colab": {
          "base_uri": "https://localhost:8080/",
          "height": 34
        },
        "outputId": "2cd353cc-9abc-411f-b6cf-b738f8e4af1b"
      },
      "source": [
        "pwd"
      ],
      "execution_count": 66,
      "outputs": [
        {
          "output_type": "execute_result",
          "data": {
            "text/plain": [
              "'/content'"
            ]
          },
          "metadata": {
            "tags": []
          },
          "execution_count": 66
        }
      ]
    },
    {
      "cell_type": "code",
      "metadata": {
        "id": "egnH865OML29",
        "colab_type": "code",
        "colab": {
          "base_uri": "https://localhost:8080/",
          "height": 221
        },
        "outputId": "310d260f-aa61-4409-ff97-e4d0ddca16b4"
      },
      "source": [
        "pip install fire"
      ],
      "execution_count": 68,
      "outputs": [
        {
          "output_type": "stream",
          "text": [
            "Collecting fire\n",
            "\u001b[?25l  Downloading https://files.pythonhosted.org/packages/d9/69/faeaae8687f4de0f5973694d02e9d6c3eb827636a009157352d98de1129e/fire-0.2.1.tar.gz (76kB)\n",
            "\r\u001b[K     |████▎                           | 10kB 19.9MB/s eta 0:00:01\r\u001b[K     |████████▋                       | 20kB 3.2MB/s eta 0:00:01\r\u001b[K     |████████████▉                   | 30kB 4.7MB/s eta 0:00:01\r\u001b[K     |█████████████████▏              | 40kB 3.0MB/s eta 0:00:01\r\u001b[K     |█████████████████████▍          | 51kB 3.7MB/s eta 0:00:01\r\u001b[K     |█████████████████████████▊      | 61kB 4.4MB/s eta 0:00:01\r\u001b[K     |██████████████████████████████  | 71kB 5.1MB/s eta 0:00:01\r\u001b[K     |████████████████████████████████| 81kB 4.1MB/s \n",
            "\u001b[?25hRequirement already satisfied: six in /usr/local/lib/python3.6/dist-packages (from fire) (1.12.0)\n",
            "Requirement already satisfied: termcolor in /usr/local/lib/python3.6/dist-packages (from fire) (1.1.0)\n",
            "Building wheels for collected packages: fire\n",
            "  Building wheel for fire (setup.py) ... \u001b[?25l\u001b[?25hdone\n",
            "  Created wheel for fire: filename=fire-0.2.1-py2.py3-none-any.whl size=103527 sha256=914f801ec6fe737a2d2a4fc8141f71064631b61b1dbc7f0860e534923dfb8ba0\n",
            "  Stored in directory: /root/.cache/pip/wheels/31/9c/c0/07b6dc7faf1844bb4688f46b569efe6cafaa2179c95db821da\n",
            "Successfully built fire\n",
            "Installing collected packages: fire\n",
            "Successfully installed fire-0.2.1\n"
          ],
          "name": "stdout"
        }
      ]
    },
    {
      "cell_type": "code",
      "metadata": {
        "id": "QGgct6dGMi-X",
        "colab_type": "code",
        "colab": {}
      },
      "source": [
        ""
      ],
      "execution_count": 0,
      "outputs": []
    }
  ]
}